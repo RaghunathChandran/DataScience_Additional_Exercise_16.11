{
 "cells": [
  {
   "cell_type": "markdown",
   "metadata": {},
   "source": [
    "# Session 15: Additional Exercise - Raghunath"
   ]
  },
  {
   "cell_type": "markdown",
   "metadata": {},
   "source": [
    "## Problem Statement 1:"
   ]
  },
  {
   "cell_type": "raw",
   "metadata": {},
   "source": [
    "In each of the following situations, state whether it is a correctly stated\n",
    "hypothesis testing problem and why?\n",
    "1. 0: = 25, 1: ≠ 25\n",
    "2. 0: > 10, 1: = 10\n",
    "3. 0: = 50, 1: ≠ 50\n",
    "4. 0: = 0.1, 1: = 0.5\n",
    "5. 0: = 30, 1: > 30"
   ]
  },
  {
   "cell_type": "code",
   "execution_count": null,
   "metadata": {},
   "outputs": [],
   "source": []
  }
 ],
 "metadata": {
  "kernelspec": {
   "display_name": "Python 3",
   "language": "python",
   "name": "python3"
  },
  "language_info": {
   "codemirror_mode": {
    "name": "ipython",
    "version": 3
   },
   "file_extension": ".py",
   "mimetype": "text/x-python",
   "name": "python",
   "nbconvert_exporter": "python",
   "pygments_lexer": "ipython3",
   "version": "3.7.1"
  }
 },
 "nbformat": 4,
 "nbformat_minor": 2
}
